{
 "cells": [
  {
   "cell_type": "code",
   "execution_count": 2,
   "metadata": {
    "executionInfo": {
     "elapsed": 11,
     "status": "ok",
     "timestamp": 1696917030432,
     "user": {
      "displayName": "Nasima Islam Bithi",
      "userId": "07730572757890972820"
     },
     "user_tz": -360
    },
    "id": "vjCv_WoQrd_t"
   },
   "outputs": [],
   "source": [
    "import numpy as np"
   ]
  },
  {
   "cell_type": "code",
   "execution_count": 3,
   "metadata": {
    "colab": {
     "base_uri": "https://localhost:8080/",
     "height": 35
    },
    "executionInfo": {
     "elapsed": 11,
     "status": "ok",
     "timestamp": 1696917030433,
     "user": {
      "displayName": "Nasima Islam Bithi",
      "userId": "07730572757890972820"
     },
     "user_tz": -360
    },
    "id": "CVEgr54_Ir31",
    "outputId": "097a2f9e-f2cc-4310-fb27-43b2da127091"
   },
   "outputs": [
    {
     "data": {
      "text/plain": [
       "'1.24.3'"
      ]
     },
     "execution_count": 3,
     "metadata": {},
     "output_type": "execute_result"
    }
   ],
   "source": [
    "np.__version__"
   ]
  },
  {
   "cell_type": "code",
   "execution_count": 4,
   "metadata": {
    "colab": {
     "base_uri": "https://localhost:8080/"
    },
    "executionInfo": {
     "elapsed": 619,
     "status": "ok",
     "timestamp": 1696917059169,
     "user": {
      "displayName": "Nasima Islam Bithi",
      "userId": "07730572757890972820"
     },
     "user_tz": -360
    },
    "id": "oTh2zIoVIuHk",
    "outputId": "1bc8939c-8782-4a75-a09e-52d6cd1c3e52"
   },
   "outputs": [
    {
     "name": "stdout",
     "output_type": "stream",
     "text": [
      "[1 2 3 4 5]\n"
     ]
    }
   ],
   "source": [
    "a= np.array([1,2,3,4,5])\n",
    "print(a)"
   ]
  },
  {
   "cell_type": "code",
   "execution_count": 5,
   "metadata": {
    "colab": {
     "base_uri": "https://localhost:8080/"
    },
    "executionInfo": {
     "elapsed": 3,
     "status": "ok",
     "timestamp": 1696917070989,
     "user": {
      "displayName": "Nasima Islam Bithi",
      "userId": "07730572757890972820"
     },
     "user_tz": -360
    },
    "id": "kI1e63GgI1S7",
    "outputId": "b5999212-a495-4100-a827-7b055a9d069a"
   },
   "outputs": [
    {
     "name": "stdout",
     "output_type": "stream",
     "text": [
      "(5,)\n"
     ]
    }
   ],
   "source": [
    "print(a.shape)"
   ]
  },
  {
   "cell_type": "code",
   "execution_count": 6,
   "metadata": {
    "colab": {
     "base_uri": "https://localhost:8080/"
    },
    "executionInfo": {
     "elapsed": 6,
     "status": "ok",
     "timestamp": 1696917086009,
     "user": {
      "displayName": "Nasima Islam Bithi",
      "userId": "07730572757890972820"
     },
     "user_tz": -360
    },
    "id": "H2hdNnCHI57U",
    "outputId": "9104c64b-bcce-4237-a81a-d63298fd7986"
   },
   "outputs": [
    {
     "name": "stdout",
     "output_type": "stream",
     "text": [
      "1\n"
     ]
    }
   ],
   "source": [
    "print(a.ndim)"
   ]
  },
  {
   "cell_type": "code",
   "execution_count": 7,
   "metadata": {
    "colab": {
     "base_uri": "https://localhost:8080/"
    },
    "executionInfo": {
     "elapsed": 6,
     "status": "ok",
     "timestamp": 1696917095815,
     "user": {
      "displayName": "Nasima Islam Bithi",
      "userId": "07730572757890972820"
     },
     "user_tz": -360
    },
    "id": "e9bFS4SvI9h7",
    "outputId": "8d9a950b-6ba5-4b01-9437-9e19cd4eaae2"
   },
   "outputs": [
    {
     "name": "stdout",
     "output_type": "stream",
     "text": [
      "int32\n"
     ]
    }
   ],
   "source": [
    "print(a.dtype)"
   ]
  },
  {
   "cell_type": "code",
   "execution_count": 8,
   "metadata": {
    "colab": {
     "base_uri": "https://localhost:8080/"
    },
    "executionInfo": {
     "elapsed": 5,
     "status": "ok",
     "timestamp": 1696917106728,
     "user": {
      "displayName": "Nasima Islam Bithi",
      "userId": "07730572757890972820"
     },
     "user_tz": -360
    },
    "id": "prf1qVv0I__E",
    "outputId": "ac808f7f-5b1f-4153-e649-f212d7a5afb9"
   },
   "outputs": [
    {
     "name": "stdout",
     "output_type": "stream",
     "text": [
      "5\n"
     ]
    }
   ],
   "source": [
    "print(a.size)"
   ]
  },
  {
   "cell_type": "code",
   "execution_count": 9,
   "metadata": {
    "colab": {
     "base_uri": "https://localhost:8080/"
    },
    "executionInfo": {
     "elapsed": 5,
     "status": "ok",
     "timestamp": 1696921441016,
     "user": {
      "displayName": "Nasima Islam Bithi",
      "userId": "07730572757890972820"
     },
     "user_tz": -360
    },
    "id": "J4gr2Wz3JCik",
    "outputId": "1c3cf32d-741e-4f2e-f441-ab73e336abc7"
   },
   "outputs": [
    {
     "name": "stdout",
     "output_type": "stream",
     "text": [
      "4\n"
     ]
    }
   ],
   "source": [
    "print(a.itemsize) #bytes"
   ]
  },
  {
   "cell_type": "code",
   "execution_count": 9,
   "metadata": {
    "colab": {
     "base_uri": "https://localhost:8080/"
    },
    "executionInfo": {
     "elapsed": 5,
     "status": "ok",
     "timestamp": 1696917196953,
     "user": {
      "displayName": "Nasima Islam Bithi",
      "userId": "07730572757890972820"
     },
     "user_tz": -360
    },
    "id": "P4sCYCUEJFSs",
    "outputId": "8c10b542-66de-4a43-ea2d-ecce5903e9e5"
   },
   "outputs": [
    {
     "name": "stdout",
     "output_type": "stream",
     "text": [
      "1\n"
     ]
    }
   ],
   "source": [
    "print(a[0])"
   ]
  },
  {
   "cell_type": "code",
   "execution_count": 10,
   "metadata": {},
   "outputs": [
    {
     "data": {
      "text/plain": [
       "5"
      ]
     },
     "execution_count": 10,
     "metadata": {},
     "output_type": "execute_result"
    }
   ],
   "source": [
    "len(a)"
   ]
  },
  {
   "cell_type": "code",
   "execution_count": 10,
   "metadata": {
    "colab": {
     "base_uri": "https://localhost:8080/"
    },
    "executionInfo": {
     "elapsed": 5,
     "status": "ok",
     "timestamp": 1696917214844,
     "user": {
      "displayName": "Nasima Islam Bithi",
      "userId": "07730572757890972820"
     },
     "user_tz": -360
    },
    "id": "JylumCvsJYtF",
    "outputId": "96d373d2-b010-4eb4-f317-f03b7fec7214"
   },
   "outputs": [
    {
     "data": {
      "text/plain": [
       "array([5, 2, 3, 4, 5])"
      ]
     },
     "execution_count": 10,
     "metadata": {},
     "output_type": "execute_result"
    }
   ],
   "source": [
    "a[0] = 5\n",
    "a"
   ]
  },
  {
   "cell_type": "code",
   "execution_count": 11,
   "metadata": {
    "colab": {
     "base_uri": "https://localhost:8080/"
    },
    "executionInfo": {
     "elapsed": 5,
     "status": "ok",
     "timestamp": 1696917237366,
     "user": {
      "displayName": "Nasima Islam Bithi",
      "userId": "07730572757890972820"
     },
     "user_tz": -360
    },
    "id": "qRF5LmkMJcH0",
    "outputId": "51638ea9-10c3-4294-a347-8cece6f21c2d"
   },
   "outputs": [
    {
     "data": {
      "text/plain": [
       "19"
      ]
     },
     "execution_count": 11,
     "metadata": {},
     "output_type": "execute_result"
    }
   ],
   "source": [
    "a.sum()"
   ]
  },
  {
   "cell_type": "code",
   "execution_count": 12,
   "metadata": {
    "colab": {
     "base_uri": "https://localhost:8080/"
    },
    "executionInfo": {
     "elapsed": 5,
     "status": "ok",
     "timestamp": 1696917288841,
     "user": {
      "displayName": "Nasima Islam Bithi",
      "userId": "07730572757890972820"
     },
     "user_tz": -360
    },
    "id": "i5aw4nXHJihs",
    "outputId": "6d8799d8-6cba-4e9d-993f-bb3465384754"
   },
   "outputs": [
    {
     "data": {
      "text/plain": [
       "array([2.23606798, 1.41421356, 1.73205081, 2.        , 2.23606798])"
      ]
     },
     "execution_count": 12,
     "metadata": {},
     "output_type": "execute_result"
    }
   ],
   "source": [
    "np.sqrt(a)"
   ]
  },
  {
   "cell_type": "code",
   "execution_count": 13,
   "metadata": {
    "colab": {
     "base_uri": "https://localhost:8080/"
    },
    "executionInfo": {
     "elapsed": 5,
     "status": "ok",
     "timestamp": 1696917299370,
     "user": {
      "displayName": "Nasima Islam Bithi",
      "userId": "07730572757890972820"
     },
     "user_tz": -360
    },
    "id": "h156JGbiJvE1",
    "outputId": "347ad8e6-9632-4e67-cefe-c356b38a95ee"
   },
   "outputs": [
    {
     "data": {
      "text/plain": [
       "array([1.60943791, 0.69314718, 1.09861229, 1.38629436, 1.60943791])"
      ]
     },
     "execution_count": 13,
     "metadata": {},
     "output_type": "execute_result"
    }
   ],
   "source": [
    "np.log(a)"
   ]
  },
  {
   "cell_type": "code",
   "execution_count": 14,
   "metadata": {
    "colab": {
     "base_uri": "https://localhost:8080/"
    },
    "executionInfo": {
     "elapsed": 397,
     "status": "ok",
     "timestamp": 1696917571321,
     "user": {
      "displayName": "Nasima Islam Bithi",
      "userId": "07730572757890972820"
     },
     "user_tz": -360
    },
    "id": "wzC6JHJjJxoE",
    "outputId": "9e204bda-6439-405b-96c4-26f55642cf04"
   },
   "outputs": [
    {
     "data": {
      "text/plain": [
       "11"
      ]
     },
     "execution_count": 14,
     "metadata": {},
     "output_type": "execute_result"
    }
   ],
   "source": [
    "a = np.array([1,2])\n",
    "b = np.array([3,4])\n",
    "np.dot(a,b)"
   ]
  },
  {
   "cell_type": "code",
   "execution_count": 15,
   "metadata": {
    "colab": {
     "base_uri": "https://localhost:8080/"
    },
    "executionInfo": {
     "elapsed": 5,
     "status": "ok",
     "timestamp": 1696917572709,
     "user": {
      "displayName": "Nasima Islam Bithi",
      "userId": "07730572757890972820"
     },
     "user_tz": -360
    },
    "id": "v3bumxU6KmTs",
    "outputId": "66b71788-daf2-4e0b-8460-0c57ab81707c"
   },
   "outputs": [
    {
     "data": {
      "text/plain": [
       "11"
      ]
     },
     "execution_count": 15,
     "metadata": {},
     "output_type": "execute_result"
    }
   ],
   "source": [
    "a @ b"
   ]
  },
  {
   "cell_type": "code",
   "execution_count": 16,
   "metadata": {
    "colab": {
     "base_uri": "https://localhost:8080/"
    },
    "executionInfo": {
     "elapsed": 3,
     "status": "ok",
     "timestamp": 1696917574226,
     "user": {
      "displayName": "Nasima Islam Bithi",
      "userId": "07730572757890972820"
     },
     "user_tz": -360
    },
    "id": "dwgZeMo_J97b",
    "outputId": "bc2403ce-86cd-4a22-8e93-ae21b7f6c295"
   },
   "outputs": [
    {
     "data": {
      "text/plain": [
       "array([3, 8])"
      ]
     },
     "execution_count": 16,
     "metadata": {},
     "output_type": "execute_result"
    }
   ],
   "source": [
    "a * b"
   ]
  },
  {
   "cell_type": "code",
   "execution_count": 17,
   "metadata": {
    "colab": {
     "base_uri": "https://localhost:8080/"
    },
    "executionInfo": {
     "elapsed": 5,
     "status": "ok",
     "timestamp": 1696917575644,
     "user": {
      "displayName": "Nasima Islam Bithi",
      "userId": "07730572757890972820"
     },
     "user_tz": -360
    },
    "id": "4Bz3ke_OKRAk",
    "outputId": "b86416e1-f559-4ab6-c4b7-264d8c0dca97"
   },
   "outputs": [
    {
     "data": {
      "text/plain": [
       "3"
      ]
     },
     "execution_count": 17,
     "metadata": {},
     "output_type": "execute_result"
    }
   ],
   "source": [
    "np.sum(a)"
   ]
  },
  {
   "cell_type": "code",
   "execution_count": 18,
   "metadata": {
    "id": "D1ZplhtDKrF1"
   },
   "outputs": [],
   "source": [
    "a = np.random.randn(1000)\n",
    "b = np.random.randn(1000)"
   ]
  },
  {
   "cell_type": "code",
   "execution_count": 19,
   "metadata": {
    "colab": {
     "base_uri": "https://localhost:8080/"
    },
    "executionInfo": {
     "elapsed": 5,
     "status": "ok",
     "timestamp": 1696918361160,
     "user": {
      "displayName": "Nasima Islam Bithi",
      "userId": "07730572757890972820"
     },
     "user_tz": -360
    },
    "id": "ICDa69wgM8e_",
    "outputId": "ce63fbbe-4f6a-446c-bf43-f04b9957ebce"
   },
   "outputs": [
    {
     "name": "stdout",
     "output_type": "stream",
     "text": [
      "<class 'list'>\n"
     ]
    }
   ],
   "source": [
    "A = list(a)\n",
    "print(type(A))"
   ]
  },
  {
   "cell_type": "code",
   "execution_count": 20,
   "metadata": {
    "colab": {
     "base_uri": "https://localhost:8080/"
    },
    "executionInfo": {
     "elapsed": 5,
     "status": "ok",
     "timestamp": 1696918399182,
     "user": {
      "displayName": "Nasima Islam Bithi",
      "userId": "07730572757890972820"
     },
     "user_tz": -360
    },
    "id": "y8YkduMTNsI-",
    "outputId": "413ab18e-b6ad-481d-8614-c147a539d79c"
   },
   "outputs": [
    {
     "name": "stdout",
     "output_type": "stream",
     "text": [
      "(2, 2)\n"
     ]
    }
   ],
   "source": [
    "a = np.array([[1,2], [3,4]])\n",
    "print(a.shape)\n"
   ]
  },
  {
   "cell_type": "code",
   "execution_count": 21,
   "metadata": {
    "colab": {
     "base_uri": "https://localhost:8080/"
    },
    "executionInfo": {
     "elapsed": 5,
     "status": "ok",
     "timestamp": 1696918409356,
     "user": {
      "displayName": "Nasima Islam Bithi",
      "userId": "07730572757890972820"
     },
     "user_tz": -360
    },
    "id": "_9uODNvSN-T-",
    "outputId": "e160ca65-1958-4543-c02c-40bf95e07e4c"
   },
   "outputs": [
    {
     "name": "stdout",
     "output_type": "stream",
     "text": [
      "[1 2]\n"
     ]
    }
   ],
   "source": [
    "print(a[0])"
   ]
  },
  {
   "cell_type": "code",
   "execution_count": 22,
   "metadata": {
    "colab": {
     "base_uri": "https://localhost:8080/"
    },
    "executionInfo": {
     "elapsed": 3,
     "status": "ok",
     "timestamp": 1696918415049,
     "user": {
      "displayName": "Nasima Islam Bithi",
      "userId": "07730572757890972820"
     },
     "user_tz": -360
    },
    "id": "2ykDKFNUOAwl",
    "outputId": "45bb2bbc-5378-4df8-d17a-dfcca05f2b8a"
   },
   "outputs": [
    {
     "name": "stdout",
     "output_type": "stream",
     "text": [
      "1\n"
     ]
    }
   ],
   "source": [
    "print(a[0][0])"
   ]
  },
  {
   "cell_type": "code",
   "execution_count": 23,
   "metadata": {
    "colab": {
     "base_uri": "https://localhost:8080/"
    },
    "executionInfo": {
     "elapsed": 6,
     "status": "ok",
     "timestamp": 1696918422241,
     "user": {
      "displayName": "Nasima Islam Bithi",
      "userId": "07730572757890972820"
     },
     "user_tz": -360
    },
    "id": "qvsdl_jwOCK-",
    "outputId": "a2f38c9a-36b4-480b-f05f-4ed5d281ae78"
   },
   "outputs": [
    {
     "name": "stdout",
     "output_type": "stream",
     "text": [
      "1\n"
     ]
    }
   ],
   "source": [
    "print(a[0,0])"
   ]
  },
  {
   "cell_type": "code",
   "execution_count": 24,
   "metadata": {
    "colab": {
     "base_uri": "https://localhost:8080/"
    },
    "executionInfo": {
     "elapsed": 466,
     "status": "ok",
     "timestamp": 1696918435824,
     "user": {
      "displayName": "Nasima Islam Bithi",
      "userId": "07730572757890972820"
     },
     "user_tz": -360
    },
    "id": "ZHjvzlWbODv9",
    "outputId": "6ebac975-7f5c-4471-e5d2-9a1df17058fa"
   },
   "outputs": [
    {
     "name": "stdout",
     "output_type": "stream",
     "text": [
      "[1 3]\n"
     ]
    }
   ],
   "source": [
    "print(a[:,0])"
   ]
  },
  {
   "cell_type": "code",
   "execution_count": 25,
   "metadata": {
    "colab": {
     "base_uri": "https://localhost:8080/"
    },
    "executionInfo": {
     "elapsed": 448,
     "status": "ok",
     "timestamp": 1696918460602,
     "user": {
      "displayName": "Nasima Islam Bithi",
      "userId": "07730572757890972820"
     },
     "user_tz": -360
    },
    "id": "ptZzea1LOHIG",
    "outputId": "4e3f46d2-8863-44d8-e0e0-95038a18490d"
   },
   "outputs": [
    {
     "name": "stdout",
     "output_type": "stream",
     "text": [
      "[1 2]\n"
     ]
    }
   ],
   "source": [
    "print(a[0,:])"
   ]
  },
  {
   "cell_type": "code",
   "execution_count": 26,
   "metadata": {
    "colab": {
     "base_uri": "https://localhost:8080/"
    },
    "executionInfo": {
     "elapsed": 3,
     "status": "ok",
     "timestamp": 1696918479652,
     "user": {
      "displayName": "Nasima Islam Bithi",
      "userId": "07730572757890972820"
     },
     "user_tz": -360
    },
    "id": "XWj4vhiyONMe",
    "outputId": "00227f79-727f-4ed6-df92-8ccf48004f65"
   },
   "outputs": [
    {
     "name": "stdout",
     "output_type": "stream",
     "text": [
      "[[1 3]\n",
      " [2 4]]\n"
     ]
    }
   ],
   "source": [
    "print(a.T)"
   ]
  },
  {
   "cell_type": "code",
   "execution_count": 27,
   "metadata": {
    "colab": {
     "base_uri": "https://localhost:8080/"
    },
    "executionInfo": {
     "elapsed": 7,
     "status": "ok",
     "timestamp": 1696918711235,
     "user": {
      "displayName": "Nasima Islam Bithi",
      "userId": "07730572757890972820"
     },
     "user_tz": -360
    },
    "id": "KKla2KWYOR3F",
    "outputId": "42e74cff-57c5-4e85-f60a-02281a583f9c"
   },
   "outputs": [
    {
     "name": "stdout",
     "output_type": "stream",
     "text": [
      "[[13 16]\n",
      " [29 36]]\n"
     ]
    }
   ],
   "source": [
    "b = np.array([[3, 4], [5,6]])\n",
    "c = a.dot(b) # matrix multiplication\n",
    "print(c)"
   ]
  },
  {
   "cell_type": "code",
   "execution_count": 28,
   "metadata": {
    "colab": {
     "base_uri": "https://localhost:8080/"
    },
    "executionInfo": {
     "elapsed": 409,
     "status": "ok",
     "timestamp": 1696918721103,
     "user": {
      "displayName": "Nasima Islam Bithi",
      "userId": "07730572757890972820"
     },
     "user_tz": -360
    },
    "id": "wBLMaPFMOZKO",
    "outputId": "6791d022-4e36-45da-d074-c79de2e24091"
   },
   "outputs": [
    {
     "name": "stdout",
     "output_type": "stream",
     "text": [
      "[[ 3  8]\n",
      " [15 24]]\n"
     ]
    }
   ],
   "source": [
    "d = a * b # elementwise multiplication\n",
    "print(d)"
   ]
  },
  {
   "cell_type": "code",
   "execution_count": 29,
   "metadata": {
    "colab": {
     "base_uri": "https://localhost:8080/"
    },
    "executionInfo": {
     "elapsed": 2,
     "status": "ok",
     "timestamp": 1696918770297,
     "user": {
      "displayName": "Nasima Islam Bithi",
      "userId": "07730572757890972820"
     },
     "user_tz": -360
    },
    "id": "Eri686lBPMwG",
    "outputId": "0b0fd96b-3d8b-4f54-e6d9-4380a55c2cdc"
   },
   "outputs": [
    {
     "name": "stdout",
     "output_type": "stream",
     "text": [
      "-2.0000000000000004\n"
     ]
    }
   ],
   "source": [
    "c= np.linalg.det(a)\n",
    "print(c)"
   ]
  },
  {
   "cell_type": "code",
   "execution_count": 30,
   "metadata": {
    "colab": {
     "base_uri": "https://localhost:8080/"
    },
    "executionInfo": {
     "elapsed": 5,
     "status": "ok",
     "timestamp": 1696918804160,
     "user": {
      "displayName": "Nasima Islam Bithi",
      "userId": "07730572757890972820"
     },
     "user_tz": -360
    },
    "id": "lDrXMh-GPYx-",
    "outputId": "da8284e2-eaeb-4bbe-994f-969d8c421e6c"
   },
   "outputs": [
    {
     "name": "stdout",
     "output_type": "stream",
     "text": [
      "[[-2.   1. ]\n",
      " [ 1.5 -0.5]]\n"
     ]
    }
   ],
   "source": [
    "c= np.linalg.inv(a)\n",
    "print(c)"
   ]
  },
  {
   "cell_type": "code",
   "execution_count": 31,
   "metadata": {
    "colab": {
     "base_uri": "https://localhost:8080/"
    },
    "executionInfo": {
     "elapsed": 377,
     "status": "ok",
     "timestamp": 1696918823710,
     "user": {
      "displayName": "Nasima Islam Bithi",
      "userId": "07730572757890972820"
     },
     "user_tz": -360
    },
    "id": "czrhorjVPhEf",
    "outputId": "d24f0273-294a-4625-811a-2848fd1248b1"
   },
   "outputs": [
    {
     "name": "stdout",
     "output_type": "stream",
     "text": [
      "[1 4]\n"
     ]
    }
   ],
   "source": [
    "c = np.diag(a)\n",
    "print(c)"
   ]
  },
  {
   "cell_type": "code",
   "execution_count": 41,
   "metadata": {
    "colab": {
     "base_uri": "https://localhost:8080/"
    },
    "executionInfo": {
     "elapsed": 5,
     "status": "ok",
     "timestamp": 1696918945471,
     "user": {
      "displayName": "Nasima Islam Bithi",
      "userId": "07730572757890972820"
     },
     "user_tz": -360
    },
    "id": "tPzRq4LwPl2G",
    "outputId": "b5e60988-7e0c-4fc5-a4f4-5c9a7c69260a"
   },
   "outputs": [
    {
     "name": "stdout",
     "output_type": "stream",
     "text": [
      "[3 4 5 6]\n"
     ]
    }
   ],
   "source": [
    "# Boolean indexing:\n",
    "a = np.array([[1,2], [3, 4], [5, 6]])\n",
    "print(a[a>2])"
   ]
  },
  {
   "cell_type": "code",
   "execution_count": 32,
   "metadata": {
    "colab": {
     "base_uri": "https://localhost:8080/"
    },
    "executionInfo": {
     "elapsed": 566,
     "status": "ok",
     "timestamp": 1696918982330,
     "user": {
      "displayName": "Nasima Islam Bithi",
      "userId": "07730572757890972820"
     },
     "user_tz": -360
    },
    "id": "1O6q9bYKQBOP",
    "outputId": "f38b4923-c570-4b8b-ae74-0b87efc00ead"
   },
   "outputs": [
    {
     "name": "stdout",
     "output_type": "stream",
     "text": [
      "[[-1 -1]\n",
      " [ 3  4]]\n"
     ]
    }
   ],
   "source": [
    "b = np.where(a>2, a, -1)\n",
    "print(b)"
   ]
  },
  {
   "cell_type": "code",
   "execution_count": 33,
   "metadata": {
    "colab": {
     "base_uri": "https://localhost:8080/"
    },
    "executionInfo": {
     "elapsed": 2,
     "status": "ok",
     "timestamp": 1696919095816,
     "user": {
      "displayName": "Nasima Islam Bithi",
      "userId": "07730572757890972820"
     },
     "user_tz": -360
    },
    "id": "5srslk3OQMh-",
    "outputId": "183b2829-c3dc-4459-b07b-9f583dece09d"
   },
   "outputs": [
    {
     "data": {
      "text/plain": [
       "(array([0, 2, 4], dtype=int64), array([10, 30, 50]))"
      ]
     },
     "execution_count": 33,
     "metadata": {},
     "output_type": "execute_result"
    }
   ],
   "source": [
    "a = np.array([10,19,30,41,50,61])\n",
    "even= np.argwhere(a%2==0).flatten()\n",
    "even, a[even]"
   ]
  },
  {
   "cell_type": "code",
   "execution_count": 34,
   "metadata": {
    "colab": {
     "base_uri": "https://localhost:8080/"
    },
    "executionInfo": {
     "elapsed": 5,
     "status": "ok",
     "timestamp": 1696919122750,
     "user": {
      "displayName": "Nasima Islam Bithi",
      "userId": "07730572757890972820"
     },
     "user_tz": -360
    },
    "id": "chvrpP9HQbKX",
    "outputId": "02f8b70d-eb6f-41cb-ef4e-950e13a498bb"
   },
   "outputs": [
    {
     "name": "stdout",
     "output_type": "stream",
     "text": [
      "[1 2 3 4 5 6]\n"
     ]
    }
   ],
   "source": [
    "a = np.arange(1,7)\n",
    "print(a)"
   ]
  },
  {
   "cell_type": "code",
   "execution_count": 35,
   "metadata": {
    "colab": {
     "base_uri": "https://localhost:8080/"
    },
    "executionInfo": {
     "elapsed": 6,
     "status": "ok",
     "timestamp": 1696919174561,
     "user": {
      "displayName": "Nasima Islam Bithi",
      "userId": "07730572757890972820"
     },
     "user_tz": -360
    },
    "id": "oawv-QBNQ1dR",
    "outputId": "32b03d15-ec34-4e07-ac23-f197a6510108"
   },
   "outputs": [
    {
     "data": {
      "text/plain": [
       "array([[1, 2, 3],\n",
       "       [4, 5, 6]])"
      ]
     },
     "execution_count": 35,
     "metadata": {},
     "output_type": "execute_result"
    }
   ],
   "source": [
    "b= a.reshape(2,3)\n",
    "b"
   ]
  },
  {
   "cell_type": "code",
   "execution_count": 36,
   "metadata": {
    "colab": {
     "base_uri": "https://localhost:8080/"
    },
    "executionInfo": {
     "elapsed": 3,
     "status": "ok",
     "timestamp": 1696919192266,
     "user": {
      "displayName": "Nasima Islam Bithi",
      "userId": "07730572757890972820"
     },
     "user_tz": -360
    },
    "id": "r6fY06YWQu9f",
    "outputId": "f069095c-4a94-487a-e3d7-561078cc2075"
   },
   "outputs": [
    {
     "data": {
      "text/plain": [
       "array([1, 2, 3, 4, 5, 6])"
      ]
     },
     "execution_count": 36,
     "metadata": {},
     "output_type": "execute_result"
    }
   ],
   "source": [
    "c=b.flatten()\n",
    "c"
   ]
  },
  {
   "cell_type": "code",
   "execution_count": 37,
   "metadata": {
    "colab": {
     "base_uri": "https://localhost:8080/"
    },
    "executionInfo": {
     "elapsed": 5,
     "status": "ok",
     "timestamp": 1696919271788,
     "user": {
      "displayName": "Nasima Islam Bithi",
      "userId": "07730572757890972820"
     },
     "user_tz": -360
    },
    "id": "HT1PUPNSQyt3",
    "outputId": "53fafd26-4b21-4a1c-8f36-01964afe26b2"
   },
   "outputs": [
    {
     "data": {
      "text/plain": [
       "array([1, 2, 3, 4, 5, 6])"
      ]
     },
     "execution_count": 37,
     "metadata": {},
     "output_type": "execute_result"
    }
   ],
   "source": [
    "a = np.array([[1, 2], [3, 4]])\n",
    "b = np.array([[5, 6]])\n",
    "c= np.concatenate((a,b), axis=None)\n",
    "c"
   ]
  },
  {
   "cell_type": "code",
   "execution_count": 38,
   "metadata": {
    "colab": {
     "base_uri": "https://localhost:8080/"
    },
    "executionInfo": {
     "elapsed": 376,
     "status": "ok",
     "timestamp": 1696919299225,
     "user": {
      "displayName": "Nasima Islam Bithi",
      "userId": "07730572757890972820"
     },
     "user_tz": -360
    },
    "id": "_JNU81whRSXH",
    "outputId": "7ea33b86-598f-457b-be64-5de883473dfb"
   },
   "outputs": [
    {
     "data": {
      "text/plain": [
       "array([[1, 2],\n",
       "       [3, 4],\n",
       "       [5, 6]])"
      ]
     },
     "execution_count": 38,
     "metadata": {},
     "output_type": "execute_result"
    }
   ],
   "source": [
    "c= np.concatenate((a,b), axis=0) #row wise\n",
    "c"
   ]
  },
  {
   "cell_type": "code",
   "execution_count": 39,
   "metadata": {
    "colab": {
     "base_uri": "https://localhost:8080/"
    },
    "executionInfo": {
     "elapsed": 6,
     "status": "ok",
     "timestamp": 1696919346982,
     "user": {
      "displayName": "Nasima Islam Bithi",
      "userId": "07730572757890972820"
     },
     "user_tz": -360
    },
    "id": "PWcMTtvURYAH",
    "outputId": "d286338a-0513-41a2-de51-369b97b20a7c"
   },
   "outputs": [
    {
     "data": {
      "text/plain": [
       "array([[1, 2, 5],\n",
       "       [3, 4, 6]])"
      ]
     },
     "execution_count": 39,
     "metadata": {},
     "output_type": "execute_result"
    }
   ],
   "source": [
    "c= np.concatenate((a,b.T), axis=1) #row wise\n",
    "c"
   ]
  },
  {
   "cell_type": "code",
   "execution_count": 40,
   "metadata": {
    "colab": {
     "base_uri": "https://localhost:8080/"
    },
    "executionInfo": {
     "elapsed": 6,
     "status": "ok",
     "timestamp": 1696919630966,
     "user": {
      "displayName": "Nasima Islam Bithi",
      "userId": "07730572757890972820"
     },
     "user_tz": -360
    },
    "id": "qhr1m2uVRi9H",
    "outputId": "3ff348e0-0309-4286-a6af-d0296972406e"
   },
   "outputs": [
    {
     "name": "stdout",
     "output_type": "stream",
     "text": [
      "[[1 2 5 6]\n",
      " [3 4 7 8]]\n"
     ]
    }
   ],
   "source": [
    "a = np.array([[1,2], [3,4]])\n",
    "b = np.array([[5,6], [7,8]])\n",
    "c = np.hstack((a,b)) #col wise\n",
    "print(c)"
   ]
  },
  {
   "cell_type": "code",
   "execution_count": 41,
   "metadata": {
    "colab": {
     "base_uri": "https://localhost:8080/"
    },
    "executionInfo": {
     "elapsed": 5,
     "status": "ok",
     "timestamp": 1696919658544,
     "user": {
      "displayName": "Nasima Islam Bithi",
      "userId": "07730572757890972820"
     },
     "user_tz": -360
    },
    "id": "Qb6LwvKCSq8g",
    "outputId": "2bd89808-879a-4087-c7dc-0870ee93cb15"
   },
   "outputs": [
    {
     "name": "stdout",
     "output_type": "stream",
     "text": [
      "[[1 2]\n",
      " [3 4]\n",
      " [5 6]\n",
      " [7 8]]\n"
     ]
    }
   ],
   "source": [
    "c = np.vstack((a,b))\n",
    "print(c)"
   ]
  },
  {
   "cell_type": "code",
   "execution_count": 42,
   "metadata": {
    "colab": {
     "base_uri": "https://localhost:8080/"
    },
    "executionInfo": {
     "elapsed": 3,
     "status": "ok",
     "timestamp": 1696919755559,
     "user": {
      "displayName": "Nasima Islam Bithi",
      "userId": "07730572757890972820"
     },
     "user_tz": -360
    },
    "id": "MRGI2zmFSx1v",
    "outputId": "da710de3-e550-467b-dde2-eed98f9df6eb"
   },
   "outputs": [
    {
     "data": {
      "text/plain": [
       "36"
      ]
     },
     "execution_count": 42,
     "metadata": {},
     "output_type": "execute_result"
    }
   ],
   "source": [
    "c.sum()"
   ]
  },
  {
   "cell_type": "code",
   "execution_count": 43,
   "metadata": {
    "colab": {
     "base_uri": "https://localhost:8080/"
    },
    "executionInfo": {
     "elapsed": 3,
     "status": "ok",
     "timestamp": 1696919771881,
     "user": {
      "displayName": "Nasima Islam Bithi",
      "userId": "07730572757890972820"
     },
     "user_tz": -360
    },
    "id": "qbzwQnziTJWA",
    "outputId": "c22cd5dd-6232-41d2-c6ba-b7e82bf277ed"
   },
   "outputs": [
    {
     "data": {
      "text/plain": [
       "36"
      ]
     },
     "execution_count": 43,
     "metadata": {},
     "output_type": "execute_result"
    }
   ],
   "source": [
    "c.sum(axis=None)"
   ]
  },
  {
   "cell_type": "code",
   "execution_count": 44,
   "metadata": {
    "colab": {
     "base_uri": "https://localhost:8080/"
    },
    "executionInfo": {
     "elapsed": 4,
     "status": "ok",
     "timestamp": 1696919808180,
     "user": {
      "displayName": "Nasima Islam Bithi",
      "userId": "07730572757890972820"
     },
     "user_tz": -360
    },
    "id": "r925uqCQTNdw",
    "outputId": "316e83d2-892a-4e41-e9d5-2fda963165be"
   },
   "outputs": [
    {
     "name": "stdout",
     "output_type": "stream",
     "text": [
      "[16 20]\n"
     ]
    }
   ],
   "source": [
    "print(c.sum(axis=0))  #col wise sum"
   ]
  },
  {
   "cell_type": "code",
   "execution_count": 45,
   "metadata": {
    "colab": {
     "base_uri": "https://localhost:8080/"
    },
    "executionInfo": {
     "elapsed": 395,
     "status": "ok",
     "timestamp": 1696919848099,
     "user": {
      "displayName": "Nasima Islam Bithi",
      "userId": "07730572757890972820"
     },
     "user_tz": -360
    },
    "id": "uR3i3lxdTQkq",
    "outputId": "139804b2-7719-4c11-b6b0-ab85c259cd86"
   },
   "outputs": [
    {
     "name": "stdout",
     "output_type": "stream",
     "text": [
      "[ 3  7 11 15]\n"
     ]
    }
   ],
   "source": [
    "print(c.sum(axis=1))  #row wise sum"
   ]
  },
  {
   "cell_type": "code",
   "execution_count": 46,
   "metadata": {
    "colab": {
     "base_uri": "https://localhost:8080/"
    },
    "executionInfo": {
     "elapsed": 380,
     "status": "ok",
     "timestamp": 1696919876290,
     "user": {
      "displayName": "Nasima Islam Bithi",
      "userId": "07730572757890972820"
     },
     "user_tz": -360
    },
    "id": "pLYQs33dTf53",
    "outputId": "825f4632-c985-46ee-97b7-768b050c0883"
   },
   "outputs": [
    {
     "data": {
      "text/plain": [
       "4.5"
      ]
     },
     "execution_count": 46,
     "metadata": {},
     "output_type": "execute_result"
    }
   ],
   "source": [
    "c.mean()"
   ]
  },
  {
   "cell_type": "code",
   "execution_count": 47,
   "metadata": {
    "colab": {
     "base_uri": "https://localhost:8080/"
    },
    "executionInfo": {
     "elapsed": 3,
     "status": "ok",
     "timestamp": 1696919891125,
     "user": {
      "displayName": "Nasima Islam Bithi",
      "userId": "07730572757890972820"
     },
     "user_tz": -360
    },
    "id": "8ZQHzXuXTmzf",
    "outputId": "3ef79c2a-d92a-4652-9dee-01902bb01241"
   },
   "outputs": [
    {
     "data": {
      "text/plain": [
       "4.5"
      ]
     },
     "execution_count": 47,
     "metadata": {},
     "output_type": "execute_result"
    }
   ],
   "source": [
    "c.mean(axis=None)"
   ]
  },
  {
   "cell_type": "code",
   "execution_count": 48,
   "metadata": {
    "colab": {
     "base_uri": "https://localhost:8080/"
    },
    "executionInfo": {
     "elapsed": 5,
     "status": "ok",
     "timestamp": 1696919920449,
     "user": {
      "displayName": "Nasima Islam Bithi",
      "userId": "07730572757890972820"
     },
     "user_tz": -360
    },
    "id": "pRnuBbfHTv6q",
    "outputId": "e1867e3a-4ac7-4add-b72d-a5337ade1d07"
   },
   "outputs": [
    {
     "data": {
      "text/plain": [
       "array([4., 5.])"
      ]
     },
     "execution_count": 48,
     "metadata": {},
     "output_type": "execute_result"
    }
   ],
   "source": [
    "c.mean(axis=0)"
   ]
  },
  {
   "cell_type": "code",
   "execution_count": 49,
   "metadata": {
    "colab": {
     "base_uri": "https://localhost:8080/"
    },
    "executionInfo": {
     "elapsed": 6,
     "status": "ok",
     "timestamp": 1696919904729,
     "user": {
      "displayName": "Nasima Islam Bithi",
      "userId": "07730572757890972820"
     },
     "user_tz": -360
    },
    "id": "i9Wcfe0bTqin",
    "outputId": "47eb62c3-fa6e-4d47-c9f9-7aabbfaf881e"
   },
   "outputs": [
    {
     "data": {
      "text/plain": [
       "array([1.5, 3.5, 5.5, 7.5])"
      ]
     },
     "execution_count": 49,
     "metadata": {},
     "output_type": "execute_result"
    }
   ],
   "source": [
    "c.mean(axis=1)"
   ]
  },
  {
   "cell_type": "code",
   "execution_count": 50,
   "metadata": {
    "colab": {
     "base_uri": "https://localhost:8080/"
    },
    "executionInfo": {
     "elapsed": 7,
     "status": "ok",
     "timestamp": 1696919935622,
     "user": {
      "displayName": "Nasima Islam Bithi",
      "userId": "07730572757890972820"
     },
     "user_tz": -360
    },
    "id": "fVpL4-39Tt13",
    "outputId": "4d171be0-00f7-44b2-b192-bdf6086d751e"
   },
   "outputs": [
    {
     "data": {
      "text/plain": [
       "dtype('int32')"
      ]
     },
     "execution_count": 50,
     "metadata": {},
     "output_type": "execute_result"
    }
   ],
   "source": [
    "c.dtype"
   ]
  },
  {
   "cell_type": "code",
   "execution_count": 51,
   "metadata": {
    "colab": {
     "base_uri": "https://localhost:8080/"
    },
    "executionInfo": {
     "elapsed": 2,
     "status": "ok",
     "timestamp": 1696919985773,
     "user": {
      "displayName": "Nasima Islam Bithi",
      "userId": "07730572757890972820"
     },
     "user_tz": -360
    },
    "id": "e0LPGRzgT1P4",
    "outputId": "a44cf883-f48b-4b20-ca07-3f18d4e1f885"
   },
   "outputs": [
    {
     "name": "stdout",
     "output_type": "stream",
     "text": [
      "float32\n"
     ]
    },
    {
     "data": {
      "text/plain": [
       "array([1., 2.], dtype=float32)"
      ]
     },
     "execution_count": 51,
     "metadata": {},
     "output_type": "execute_result"
    }
   ],
   "source": [
    "x = np.array([1, 2], dtype=np.float32)\n",
    "print(x.dtype)\n",
    "x"
   ]
  },
  {
   "cell_type": "code",
   "execution_count": 52,
   "metadata": {
    "colab": {
     "base_uri": "https://localhost:8080/"
    },
    "executionInfo": {
     "elapsed": 2,
     "status": "ok",
     "timestamp": 1696919980489,
     "user": {
      "displayName": "Nasima Islam Bithi",
      "userId": "07730572757890972820"
     },
     "user_tz": -360
    },
    "id": "TuFNuBACT5R4",
    "outputId": "7ceb8064-c0e6-4ee5-ef5c-ecce4d3e429c"
   },
   "outputs": [
    {
     "data": {
      "text/plain": [
       "array([1., 2.], dtype=float32)"
      ]
     },
     "execution_count": 52,
     "metadata": {},
     "output_type": "execute_result"
    }
   ],
   "source": [
    "y = x.copy()\n",
    "y"
   ]
  },
  {
   "cell_type": "code",
   "execution_count": 53,
   "metadata": {
    "colab": {
     "base_uri": "https://localhost:8080/"
    },
    "executionInfo": {
     "elapsed": 754,
     "status": "ok",
     "timestamp": 1696920010069,
     "user": {
      "displayName": "Nasima Islam Bithi",
      "userId": "07730572757890972820"
     },
     "user_tz": -360
    },
    "id": "tINqKk5RUAOx",
    "outputId": "ac6362c9-54ad-4805-e427-bc3248e120bb"
   },
   "outputs": [
    {
     "data": {
      "text/plain": [
       "array([[0., 0., 0.],\n",
       "       [0., 0., 0.]])"
      ]
     },
     "execution_count": 53,
     "metadata": {},
     "output_type": "execute_result"
    }
   ],
   "source": [
    "a = np.zeros((2,3))\n",
    "a"
   ]
  },
  {
   "cell_type": "code",
   "execution_count": 54,
   "metadata": {
    "colab": {
     "base_uri": "https://localhost:8080/"
    },
    "executionInfo": {
     "elapsed": 3,
     "status": "ok",
     "timestamp": 1696920022026,
     "user": {
      "displayName": "Nasima Islam Bithi",
      "userId": "07730572757890972820"
     },
     "user_tz": -360
    },
    "id": "UYVhr4qYUHNI",
    "outputId": "b48c447c-536c-4bba-d2c5-46251f7cd105"
   },
   "outputs": [
    {
     "name": "stdout",
     "output_type": "stream",
     "text": [
      "[[1. 1. 1.]\n",
      " [1. 1. 1.]]\n"
     ]
    }
   ],
   "source": [
    "b = np.ones((2,3))\n",
    "print(b)"
   ]
  },
  {
   "cell_type": "code",
   "execution_count": 55,
   "metadata": {
    "colab": {
     "base_uri": "https://localhost:8080/"
    },
    "executionInfo": {
     "elapsed": 489,
     "status": "ok",
     "timestamp": 1696920033397,
     "user": {
      "displayName": "Nasima Islam Bithi",
      "userId": "07730572757890972820"
     },
     "user_tz": -360
    },
    "id": "2xACMRGFUKSg",
    "outputId": "86ef0d48-5236-4625-ff63-96fde9c21e9c"
   },
   "outputs": [
    {
     "name": "stdout",
     "output_type": "stream",
     "text": [
      "[[5. 5. 5.]\n",
      " [5. 5. 5.]\n",
      " [5. 5. 5.]]\n"
     ]
    }
   ],
   "source": [
    "c = np.full((3,3),5.0)\n",
    "print(c)"
   ]
  },
  {
   "cell_type": "code",
   "execution_count": 56,
   "metadata": {
    "colab": {
     "base_uri": "https://localhost:8080/"
    },
    "executionInfo": {
     "elapsed": 371,
     "status": "ok",
     "timestamp": 1696920062099,
     "user": {
      "displayName": "Nasima Islam Bithi",
      "userId": "07730572757890972820"
     },
     "user_tz": -360
    },
    "id": "kaA2djM-UNK4",
    "outputId": "8234dd22-376a-474d-bdf1-5f70b310abd7"
   },
   "outputs": [
    {
     "name": "stdout",
     "output_type": "stream",
     "text": [
      "[[1. 0. 0.]\n",
      " [0. 1. 0.]\n",
      " [0. 0. 1.]]\n"
     ]
    }
   ],
   "source": [
    "d = np.eye(3) #3x3 identity matrix\n",
    "print(d)"
   ]
  },
  {
   "cell_type": "code",
   "execution_count": 57,
   "metadata": {
    "colab": {
     "base_uri": "https://localhost:8080/"
    },
    "executionInfo": {
     "elapsed": 517,
     "status": "ok",
     "timestamp": 1696920071664,
     "user": {
      "displayName": "Nasima Islam Bithi",
      "userId": "07730572757890972820"
     },
     "user_tz": -360
    },
    "id": "zDwu3NQnUQKg",
    "outputId": "e98c7995-1d25-49b6-f755-219a19fcfe6c"
   },
   "outputs": [
    {
     "name": "stdout",
     "output_type": "stream",
     "text": [
      "[0 1 2 3 4 5 6 7 8 9]\n"
     ]
    }
   ],
   "source": [
    "e = np.arange(10)\n",
    "print(e)"
   ]
  },
  {
   "cell_type": "code",
   "execution_count": 58,
   "metadata": {
    "colab": {
     "base_uri": "https://localhost:8080/"
    },
    "executionInfo": {
     "elapsed": 462,
     "status": "ok",
     "timestamp": 1696920088578,
     "user": {
      "displayName": "Nasima Islam Bithi",
      "userId": "07730572757890972820"
     },
     "user_tz": -360
    },
    "id": "Y0MFsPcPUWe4",
    "outputId": "15a926c9-03b4-4214-9392-9cdad4352018"
   },
   "outputs": [
    {
     "name": "stdout",
     "output_type": "stream",
     "text": [
      "[ 0.   2.5  5.   7.5 10. ]\n"
     ]
    }
   ],
   "source": [
    "f = np.linspace(0, 10, 5)\n",
    "print(f)"
   ]
  },
  {
   "cell_type": "code",
   "execution_count": 59,
   "metadata": {
    "colab": {
     "base_uri": "https://localhost:8080/"
    },
    "executionInfo": {
     "elapsed": 607,
     "status": "ok",
     "timestamp": 1696920156632,
     "user": {
      "displayName": "Nasima Islam Bithi",
      "userId": "07730572757890972820"
     },
     "user_tz": -360
    },
    "id": "BzFGzVp6Uano",
    "outputId": "345be15a-a893-4478-c811-73ce3b72adf4"
   },
   "outputs": [
    {
     "name": "stdout",
     "output_type": "stream",
     "text": [
      "[[0.18352074 0.42282952]\n",
      " [0.62419506 0.25775968]\n",
      " [0.02746657 0.24620671]]\n"
     ]
    }
   ],
   "source": [
    "a = np.random.random((3,2))\n",
    "print(a)"
   ]
  },
  {
   "cell_type": "code",
   "execution_count": 60,
   "metadata": {
    "colab": {
     "base_uri": "https://localhost:8080/"
    },
    "executionInfo": {
     "elapsed": 2,
     "status": "ok",
     "timestamp": 1696920172705,
     "user": {
      "displayName": "Nasima Islam Bithi",
      "userId": "07730572757890972820"
     },
     "user_tz": -360
    },
    "id": "Juh7xagBUrOY",
    "outputId": "031d8494-6234-4e75-f28e-06951dcd490b"
   },
   "outputs": [
    {
     "name": "stdout",
     "output_type": "stream",
     "text": [
      "[[ 1.1534669   2.37881211]\n",
      " [ 0.994932   -0.83384688]\n",
      " [ 0.42969272 -0.6294661 ]]\n"
     ]
    }
   ],
   "source": [
    "b = np.random.randn(3,2)\n",
    "print(b)"
   ]
  },
  {
   "cell_type": "code",
   "execution_count": 61,
   "metadata": {
    "colab": {
     "base_uri": "https://localhost:8080/"
    },
    "executionInfo": {
     "elapsed": 3,
     "status": "ok",
     "timestamp": 1696920481622,
     "user": {
      "displayName": "Nasima Islam Bithi",
      "userId": "07730572757890972820"
     },
     "user_tz": -360
    },
    "id": "SW6tCRaYUvIp",
    "outputId": "97b50472-5705-4354-c48b-034f2803e131"
   },
   "outputs": [
    {
     "data": {
      "text/plain": [
       "(-0.22976775873969252, 0.6627347657573599, 0.8140852324894242)"
      ]
     },
     "execution_count": 61,
     "metadata": {},
     "output_type": "execute_result"
    }
   ],
   "source": [
    "R = np.random.randn(10)\n",
    "R.mean(), R.var(), R.std()"
   ]
  },
  {
   "cell_type": "code",
   "execution_count": 62,
   "metadata": {
    "colab": {
     "base_uri": "https://localhost:8080/"
    },
    "executionInfo": {
     "elapsed": 7,
     "status": "ok",
     "timestamp": 1696920603820,
     "user": {
      "displayName": "Nasima Islam Bithi",
      "userId": "07730572757890972820"
     },
     "user_tz": -360
    },
    "id": "waqZCyDOV6oJ",
    "outputId": "1ab87232-0d4c-46bf-b0a4-0694ee131d2f"
   },
   "outputs": [
    {
     "name": "stdout",
     "output_type": "stream",
     "text": [
      "[[3 9 9]\n",
      " [5 7 8]\n",
      " [7 3 7]]\n"
     ]
    }
   ],
   "source": [
    "R = np.random.randint(3,10,size=(3,3)) #range 3 to 9\n",
    "print(R)"
   ]
  },
  {
   "cell_type": "code",
   "execution_count": 63,
   "metadata": {
    "colab": {
     "base_uri": "https://localhost:8080/"
    },
    "executionInfo": {
     "elapsed": 4,
     "status": "ok",
     "timestamp": 1696920626815,
     "user": {
      "displayName": "Nasima Islam Bithi",
      "userId": "07730572757890972820"
     },
     "user_tz": -360
    },
    "id": "eoGqI6PwWSHZ",
    "outputId": "0e371f0f-bd7c-4939-e07a-6cca5ced225f"
   },
   "outputs": [
    {
     "name": "stdout",
     "output_type": "stream",
     "text": [
      "[6 6 2 0 4 0 3 1 2 3]\n"
     ]
    }
   ],
   "source": [
    "c = np.random.choice(7, size=10) #range 0 to 6\n",
    "print(c)"
   ]
  },
  {
   "cell_type": "code",
   "execution_count": 65,
   "metadata": {
    "colab": {
     "base_uri": "https://localhost:8080/"
    },
    "executionInfo": {
     "elapsed": 6,
     "status": "ok",
     "timestamp": 1696920655003,
     "user": {
      "displayName": "Nasima Islam Bithi",
      "userId": "07730572757890972820"
     },
     "user_tz": -360
    },
    "id": "RG-M-3PtWbBR",
    "outputId": "2709e6f3-5e24-4411-c9ee-86cb2efad922"
   },
   "outputs": [
    {
     "name": "stdout",
     "output_type": "stream",
     "text": [
      "[[4 1]\n",
      " [3 4]]\n"
     ]
    }
   ],
   "source": [
    "d = np.random.choice([1,2,3,4], size=(2,2))\n",
    "print(d)"
   ]
  },
  {
   "cell_type": "code",
   "execution_count": 66,
   "metadata": {
    "colab": {
     "base_uri": "https://localhost:8080/"
    },
    "executionInfo": {
     "elapsed": 527,
     "status": "ok",
     "timestamp": 1696920699210,
     "user": {
      "displayName": "Nasima Islam Bithi",
      "userId": "07730572757890972820"
     },
     "user_tz": -360
    },
    "id": "sAlQ5f1GWigJ",
    "outputId": "b53ee245-931a-4428-e56f-31226c5c65e0"
   },
   "outputs": [
    {
     "name": "stdout",
     "output_type": "stream",
     "text": [
      "[-0.37228132  5.37228132]\n",
      "[[-0.82456484 -0.41597356]\n",
      " [ 0.56576746 -0.90937671]]\n"
     ]
    }
   ],
   "source": [
    "a = np.array([[1,2], [3,4]])\n",
    "eigenvalues, eigenvectors = np.linalg.eig(a)\n",
    "print(eigenvalues)\n",
    "print(eigenvectors)"
   ]
  },
  {
   "cell_type": "code",
   "execution_count": 67,
   "metadata": {
    "colab": {
     "base_uri": "https://localhost:8080/"
    },
    "executionInfo": {
     "elapsed": 6,
     "status": "ok",
     "timestamp": 1696920819365,
     "user": {
      "displayName": "Nasima Islam Bithi",
      "userId": "07730572757890972820"
     },
     "user_tz": -360
    },
    "id": "BS9U1pmmWvzB",
    "outputId": "38744346-f459-48e3-aa4a-4203bb6d9202"
   },
   "outputs": [
    {
     "name": "stdout",
     "output_type": "stream",
     "text": [
      "[1500.  700.]\n"
     ]
    }
   ],
   "source": [
    "A = np.array([[1, 1], [1.5, 4]])\n",
    "b = np.array([2200,5050])\n",
    "# Ax = b <=> x = A-1 b\n",
    "x = np.linalg.inv(A).dot(b)\n",
    "print(x)"
   ]
  },
  {
   "cell_type": "code",
   "execution_count": 68,
   "metadata": {
    "colab": {
     "base_uri": "https://localhost:8080/"
    },
    "executionInfo": {
     "elapsed": 3,
     "status": "ok",
     "timestamp": 1696921267526,
     "user": {
      "displayName": "Nasima Islam Bithi",
      "userId": "07730572757890972820"
     },
     "user_tz": -360
    },
    "id": "mlKhRycTY0H8",
    "outputId": "11f6cd8c-78a9-44c1-cedd-09c9abf3518b"
   },
   "outputs": [
    {
     "name": "stdout",
     "output_type": "stream",
     "text": [
      "[[ 2  2  4]\n",
      " [ 5  5  7]\n",
      " [ 8  8 10]\n",
      " [11 11 13]]\n"
     ]
    }
   ],
   "source": [
    "#broadcasting\n",
    "x = np.array([[1,2,3], [4,5,6], [7,8,9], [10, 11, 12]])\n",
    "v = np.array([1, 0, 1])\n",
    "y = x + v\n",
    "print(y)"
   ]
  },
  {
   "cell_type": "code",
   "execution_count": 75,
   "metadata": {
    "executionInfo": {
     "elapsed": 478,
     "status": "ok",
     "timestamp": 1696921314782,
     "user": {
      "displayName": "Nasima Islam Bithi",
      "userId": "07730572757890972820"
     },
     "user_tz": -360
    },
    "id": "KquOxs9AXh90"
   },
   "outputs": [],
   "source": [
    "FILE_NAME= \"C:/Users/HP/Py Code/colab/Pytorch/california_housing_test.csv\""
   ]
  },
  {
   "cell_type": "code",
   "execution_count": 76,
   "metadata": {
    "colab": {
     "base_uri": "https://localhost:8080/"
    },
    "executionInfo": {
     "elapsed": 5,
     "status": "ok",
     "timestamp": 1696921349354,
     "user": {
      "displayName": "Nasima Islam Bithi",
      "userId": "07730572757890972820"
     },
     "user_tz": -360
    },
    "id": "fda4AbzLXNKy",
    "outputId": "e42644bd-b20e-406d-811b-5e3b6db95637"
   },
   "outputs": [
    {
     "name": "stdout",
     "output_type": "stream",
     "text": [
      "(3000, 9) float32\n"
     ]
    }
   ],
   "source": [
    "# 1) load csv file with np.loadtxt()\n",
    "data = np.loadtxt(FILE_NAME, delimiter=\",\",dtype=np.float32,skiprows=1)\n",
    "print(data.shape, data.dtype)"
   ]
  },
  {
   "cell_type": "code",
   "execution_count": 77,
   "metadata": {
    "colab": {
     "base_uri": "https://localhost:8080/"
    },
    "executionInfo": {
     "elapsed": 576,
     "status": "ok",
     "timestamp": 1696921354014,
     "user": {
      "displayName": "Nasima Islam Bithi",
      "userId": "07730572757890972820"
     },
     "user_tz": -360
    },
    "id": "qKfNiUjPXWKX",
    "outputId": "9994e090-6ce9-4315-b8d5-6c418b21a6a8"
   },
   "outputs": [
    {
     "name": "stdout",
     "output_type": "stream",
     "text": [
      "(3001, 9)\n"
     ]
    }
   ],
   "source": [
    "# 2) load csv file with np.genfromtxt()\n",
    "data = np.genfromtxt(FILE_NAME, delimiter=\",\", dtype=np.float32)\n",
    "print(data.shape)"
   ]
  },
  {
   "cell_type": "code",
   "execution_count": 11,
   "metadata": {
    "id": "dU07f0FOZPja"
   },
   "outputs": [
    {
     "name": "stdout",
     "output_type": "stream",
     "text": [
      "[[1 2 3]\n",
      " [4 5 6]\n",
      " [7 8 9]]\n",
      "2\n"
     ]
    }
   ],
   "source": [
    "#2D array\n",
    "arr_2D = np.array([[1,2,3],[4,5,6],[7,8,9]])\n",
    "print(arr_2D)\n",
    "print(arr_2D.ndim)"
   ]
  },
  {
   "cell_type": "code",
   "execution_count": 14,
   "metadata": {},
   "outputs": [
    {
     "name": "stdout",
     "output_type": "stream",
     "text": [
      "[[1 2 3]\n",
      " [4 5 6]\n",
      " [7 8 9]]\n",
      "8\n",
      "7\n",
      "[[2 3]\n",
      " [5 6]]\n",
      "[[1 2]\n",
      " [4 5]]\n",
      "[8 9]\n"
     ]
    }
   ],
   "source": [
    "#slicing\n",
    "print(arr_2D)\n",
    "print(arr_2D[2,1])\n",
    "print(arr_2D[2,-3])\n",
    "print(arr_2D[:2,1:3])\n",
    "print(arr_2D[0:2,-3:-1]) # -3 to -2 cols\n",
    "print(arr_2D[2,1:])"
   ]
  },
  {
   "cell_type": "code",
   "execution_count": 16,
   "metadata": {},
   "outputs": [
    {
     "name": "stdout",
     "output_type": "stream",
     "text": [
      "[[[1 2 3]\n",
      "  [4 5 6]]\n",
      "\n",
      " [[7 8 9]\n",
      "  [0 1 9]]]\n",
      "3\n"
     ]
    }
   ],
   "source": [
    "#3D array\n",
    "arr_3D = np.array([[[1,2,3],[4,5,6]],[[7,8,9],[0,1,9]]])\n",
    "print(arr_3D)\n",
    "print(arr_3D.ndim)"
   ]
  },
  {
   "cell_type": "code",
   "execution_count": 17,
   "metadata": {},
   "outputs": [
    {
     "name": "stdout",
     "output_type": "stream",
     "text": [
      "[[[1 2 3]\n",
      "  [4 5 6]]\n",
      "\n",
      " [[7 8 9]\n",
      "  [0 1 9]]]\n",
      "9\n"
     ]
    }
   ],
   "source": [
    "print(arr_3D)\n",
    "print(arr_3D[1,1,2])"
   ]
  },
  {
   "cell_type": "code",
   "execution_count": 18,
   "metadata": {},
   "outputs": [
    {
     "name": "stdout",
     "output_type": "stream",
     "text": [
      "[2 5 3]\n",
      "float64\n",
      "int32\n",
      "float32\n",
      "[2. 5. 3.]\n"
     ]
    }
   ],
   "source": [
    "#dtype and type conversion\n",
    "arr_f=np.array([2.5, 5.1, 3.2])\n",
    "arr_i=arr_f.astype(int)\n",
    "print(arr_i)\n",
    "print(arr_f.dtype)\n",
    "print(arr_i.dtype)\n",
    "arr_f1=arr_i.astype('f')\n",
    "print(arr_f1.dtype)\n",
    "print(arr_f1)"
   ]
  },
  {
   "cell_type": "code",
   "execution_count": 19,
   "metadata": {},
   "outputs": [
    {
     "name": "stdout",
     "output_type": "stream",
     "text": [
      "[[1 2 3]\n",
      " [4 5 6]\n",
      " [7 8 9]]\n",
      "Shape of array:  (3, 3) \n",
      "\n",
      "[[[1 2 3]\n",
      "  [4 5 6]]\n",
      "\n",
      " [[7 8 9]\n",
      "  [0 1 9]]]\n",
      "Shape of array:  (2, 2, 3)\n"
     ]
    }
   ],
   "source": [
    "#shape\n",
    "print(arr_2D)\n",
    "print(\"Shape of array: \",arr_2D.shape,\"\\n\")\n",
    "print(arr_3D)\n",
    "print(\"Shape of array: \",arr_3D.shape)"
   ]
  },
  {
   "cell_type": "code",
   "execution_count": 20,
   "metadata": {},
   "outputs": [
    {
     "name": "stdout",
     "output_type": "stream",
     "text": [
      "[4 5 6 7]\n"
     ]
    }
   ],
   "source": [
    "#filtering array\n",
    "arr = np.array([1, 2, 3, 4, 5, 6, 7])\n",
    "arr=arr[arr>3]\n",
    "print(arr)"
   ]
  },
  {
   "cell_type": "code",
   "execution_count": 21,
   "metadata": {},
   "outputs": [
    {
     "name": "stdout",
     "output_type": "stream",
     "text": [
      "[0 0 1 2 3]\n",
      "[[[1 2 3]\n",
      "  [4 5 6]]\n",
      "\n",
      " [[7 8 9]\n",
      "  [0 1 9]]]\n",
      "(array([2, 4], dtype=int64),)\n"
     ]
    }
   ],
   "source": [
    "#sort and search\n",
    "arr = np.array([3, 2, 0, 1,0])\n",
    "print(np.sort(arr))\n",
    "print(np.sort(arr_3D))\n",
    "x=np.where(arr==0) #return an index where element is 0\n",
    "print(x)"
   ]
  },
  {
   "cell_type": "code",
   "execution_count": 22,
   "metadata": {},
   "outputs": [
    {
     "name": "stdout",
     "output_type": "stream",
     "text": [
      "[3 2 0 1 0]\n",
      "[100   2   0   1   0]\n",
      "[3 2 0 1 0]\n"
     ]
    }
   ],
   "source": [
    "#Copy\n",
    "arr1= arr.copy()\n",
    "print(arr1)\n",
    "arr1[0]=100\n",
    "print(arr1)\n",
    "print(arr)"
   ]
  },
  {
   "cell_type": "code",
   "execution_count": 23,
   "metadata": {},
   "outputs": [
    {
     "name": "stdout",
     "output_type": "stream",
     "text": [
      "[3 2 0 1 0]\n",
      "[3 2 0 1 0]\n",
      "[50  2  0  1  0]\n",
      "[50  2  0  1  0]\n"
     ]
    }
   ],
   "source": [
    "#view \n",
    "arr2=arr.view()\n",
    "print(arr)\n",
    "print(arr2)\n",
    "arr2[0]=50\n",
    "print(arr)\n",
    "print(arr2)"
   ]
  },
  {
   "cell_type": "code",
   "execution_count": 33,
   "metadata": {},
   "outputs": [
    {
     "name": "stdout",
     "output_type": "stream",
     "text": [
      "[1.18431753 1.08633088 0.95910843 0.86502828 0.85448754 1.07944348\n",
      " 0.84894442 0.81426454 1.07021066 1.07336149 1.054581   1.09957957\n",
      " 1.07527507 0.86228791 1.1452211  1.0035821  1.05869657 0.97487586\n",
      " 0.89749545 1.09533257 0.93083409 0.83797604 0.9125719  1.00487864\n",
      " 0.98837006 1.08712482 0.89848935 0.82958227 0.87383532 0.93858575\n",
      " 1.11792967 0.99445392 0.92183873 1.27468218 1.07085103 1.0733831\n",
      " 1.03752699 0.96994248 1.10810001 0.86095726 0.66653571 1.00763116\n",
      " 0.94246901 0.98386193 0.93746307 0.94618207 1.05492157 0.94395866\n",
      " 1.08413532 1.11658244 0.93449967 0.92483684 1.02354572 0.89717527\n",
      " 1.13302523 1.13005954 0.99488307 0.907009   0.93589134 0.9830817\n",
      " 1.18798023 0.81462857 0.87448576 1.14512918 0.93947155 1.00895476\n",
      " 1.06932403 1.01527489 0.96731324 1.09046869 0.95363474 0.85718756\n",
      " 1.08070475 0.94616451 1.02193904 1.18737404 0.94099661 0.93687498\n",
      " 1.02996338 0.88581949 1.08342808 0.88187182 0.86891787 0.90972307\n",
      " 1.02743118 0.89313099 1.04020198 0.86957867 0.91433683 1.08152805\n",
      " 1.02080388 1.15585546 1.00140554 0.95155057 0.97892233 0.94138023\n",
      " 0.95851789 1.10000362 1.19049825 1.09017218 0.91422127 1.11791268\n",
      " 1.06564178 1.03932771 1.08217408 0.86639287 1.09247867 1.09109506\n",
      " 0.83501279 1.07788246 0.75221316 0.95259934 1.02864388 0.83900904\n",
      " 0.94204236 1.13292312 0.9265062  1.04905605 1.11911377 0.89133661\n",
      " 0.90474074 1.00555913 1.11926877 0.99626943 1.10994907 1.07798698\n",
      " 1.11196633 1.07399591 0.99391628 1.00789861 1.07174304 0.83052779\n",
      " 0.86218298 0.90679955 0.87908343 0.97666036 0.87389618 1.05077625\n",
      " 1.08736008 1.12270086 0.95376438 0.77488802 1.0195482  1.05284405\n",
      " 1.00746024 0.93053241 0.83453054 1.081506   0.98407335 1.07726912\n",
      " 1.0905275  1.22386701 0.98208121 0.96424503 0.93223372 0.98268296\n",
      " 1.03776998 1.1977352  0.99525885 1.04086051 1.11371342 1.12192758\n",
      " 0.93990367 1.10205755 0.98151872 0.95918798 0.94423378 0.98395396\n",
      " 1.03075055 1.07064158 1.18362487 1.16943258 0.93788534 1.00686643\n",
      " 1.14241723 1.06313901 0.91391699 1.02854672 0.862968   1.22491082\n",
      " 1.09756241 0.96589743 1.0480841  0.96884515 0.85277259 0.99754434\n",
      " 1.00355768 1.06110399 1.021572   1.03327164 1.24141657 0.90829885\n",
      " 0.95445672 0.83200799 0.92458613 0.92158165 0.95672935 0.87665822\n",
      " 1.17693976 0.98990158 0.83623298 1.04307936 1.12550675 0.91776333\n",
      " 0.91628669 0.9334073  0.89595482 1.1710266  0.89590998 0.90212606\n",
      " 1.21949196 1.11581199 1.2473982  0.9288157  0.97019304 0.91903901\n",
      " 0.91066538 0.90461463 1.07427957 0.93431985 1.06996836 0.98622212\n",
      " 0.97278372 0.89753582 0.87303179 0.97229397 1.1544047  0.99477872\n",
      " 0.97212046 1.13920377 1.16329947 0.70524744 0.87802973 1.06479302\n",
      " 0.91079975 0.77311787 0.93517787 1.11505327 0.98411492 1.07521372\n",
      " 1.05130778 1.11319894 0.85384191 1.06174704 1.02234232 0.9617835\n",
      " 0.78190266 0.9368697  0.72399536 1.09760108]\n"
     ]
    },
    {
     "data": {
      "image/png": "[encoded data removed]",
      "text/plain": [
       "<Figure size 640x480 with 1 Axes>"
      ]
     },
     "metadata": {},
     "output_type": "display_data"
    }
   ],
   "source": [
    "import matplotlib.pyplot as plt\n",
    "a=np.random.normal(1,0.1,size=250)  #loc is mean, scale is std dev and 2*3 array\n",
    "print(a)\n",
    "plt.hist(a)\n",
    "plt.show()"
   ]
  },
  {
   "cell_type": "code",
   "execution_count": 34,
   "metadata": {},
   "outputs": [
    {
     "name": "stdout",
     "output_type": "stream",
     "text": [
      "[12.62166023  7.84177966 10.37759034  6.94174353 52.84402506 22.2856616\n",
      " 16.58725261 49.20534246  9.99499763 49.17316894 19.07930018 80.39997957\n",
      " 29.54757913 44.68964454  4.40090688 38.28231355 31.28124719 42.45408634\n",
      " 99.59492002 24.76601765 46.44213089 94.1955244  63.98597749 37.13286376\n",
      " 73.80249181 59.15334905 19.28420196 79.10158214 98.21322694 25.02399514\n",
      " 94.1252925  79.37215462 16.63482878  3.95445853 95.45120041 70.83707759\n",
      " 89.94743277 59.54210222 27.52485861 66.70235285 62.31932571 26.54663749\n",
      " 77.59543419 62.54644555 85.12347742 52.35823306 76.33602151 20.59286312\n",
      " 38.59384545 22.92200123 78.18392843 93.07049617 27.81746089 71.89927786\n",
      " 16.74371164 20.68167337 51.55652156 44.8716433  49.97327781 57.40043922\n",
      " 29.59826219 59.88572137 29.14928743 78.24185234 20.70664149 74.07865346\n",
      " 77.41336251 39.51363381  7.33846778 92.38398007 13.8812634  54.06739301\n",
      " 64.29958242 53.7101691  70.00159718 23.83597328 70.36461086 73.37641849\n",
      "  5.75861723 62.55581398 99.85467585 85.05906731 50.15544071  8.65410192\n",
      " 86.80461818  2.05593322 41.18064018 26.98489818  9.16777241 17.96132056\n",
      " 98.91462699 68.30889232  7.2611972  19.36665019 67.38043675 73.39643096\n",
      " 70.19368531 53.35529133 72.01886913 12.53482266 18.00087138 74.72010576\n",
      " 28.22750548 95.73727772 64.03221286 86.71949994 11.57447016 44.54986633\n",
      "  4.92858281 42.82644592 46.77244456 18.68878537  2.14513573 84.36354853\n",
      "  2.40933922 15.16684949 36.18466323  2.89648654 38.82751371 52.67554611\n",
      " 81.95902256  7.34560091 34.96744105 95.02086219 15.90200229 77.72885578\n",
      " 68.65695704 98.25426695 87.03738652 32.85904605 98.3441692  29.91645444\n",
      " 25.60271323 52.47107287 52.72970393 22.64968264 91.42092387 38.13958216\n",
      " 44.6180815  28.36829721 21.12188297 89.38575025  6.76284849 51.59314042\n",
      " 75.28217741 28.07772677 38.45385381 53.7697575  21.40296667 76.62412317\n",
      " 85.61508602 52.20486909 35.90532034  9.78636248 37.93944376 44.44485003\n",
      " 85.26721849 26.10676635 50.67984356 39.13459057 99.1879045  72.64245927\n",
      " 52.84216419 49.81549565 72.82305431 16.31233571 93.17533702  2.17329126\n",
      " 40.16690698  6.56509312 65.93445334  8.77735971 93.85147015 57.6143842\n",
      " 39.27026936 20.29508111  3.3625695   1.10158845 84.79007049 27.79188448\n",
      " 93.0628833  73.42643896 44.00310574 36.30906736 46.0019796  44.35734161\n",
      " 48.26007593 95.38058038  6.33811032 27.89551466 50.1266968  90.19556771\n",
      " 31.60214711 37.86750197  2.657329   66.86270866 74.07087186 66.85562172\n",
      " 88.58414718 64.22689059 48.16557634 11.36193454 12.66176456 72.87594902\n",
      " 31.6202336  66.96516636 29.41769441 36.31811253  6.82292215  3.80942957\n",
      " 63.0870672  84.31202133 46.56763234 86.04000442 97.83177833 44.0189235\n",
      " 93.31593038 99.88940975 78.63961461 66.9165779  97.87634009 86.60545345\n",
      " 30.38115136 56.50676263 25.1523634  58.87775662 33.34707173 94.76505704\n",
      " 26.42527745 45.54802914  2.32523827 52.17701329 59.48638339  3.98788674\n",
      " 26.06554427 64.6260419  60.29854635 16.47668116 49.14650997 70.1001242\n",
      " 16.9429961  80.8046695   6.2969078  67.97636774 51.03066199 63.21947615\n",
      " 86.50716136 77.63183397 17.60049827  6.898666  ]\n"
     ]
    },
    {
     "data": {
      "image/png": "[encoded data removed]",
      "text/plain": [
       "<Figure size 640x480 with 1 Axes>"
      ]
     },
     "metadata": {},
     "output_type": "display_data"
    }
   ],
   "source": [
    "b=np.random.uniform(1,100,250)\n",
    "print(b)\n",
    "plt.hist(b)\n",
    "plt.show()"
   ]
  },
  {
   "cell_type": "code",
   "execution_count": 35,
   "metadata": {},
   "outputs": [
    {
     "name": "stdout",
     "output_type": "stream",
     "text": [
      "[30 32 34 36 38 40]\n"
     ]
    }
   ],
   "source": [
    "arr1 = np.array([10, 11, 12, 13, 14, 15])\n",
    "arr2 = np.array([20, 21, 22, 23, 24, 25])\n",
    "sum1=np.add(arr1,arr2)\n",
    "print(sum1)"
   ]
  },
  {
   "cell_type": "code",
   "execution_count": 36,
   "metadata": {},
   "outputs": [
    {
     "name": "stdout",
     "output_type": "stream",
     "text": [
      "[10 10 10 10 10 10]\n"
     ]
    }
   ],
   "source": [
    "sub1=np.subtract(arr2,arr1)\n",
    "print(sub1)"
   ]
  },
  {
   "cell_type": "code",
   "execution_count": 37,
   "metadata": {},
   "outputs": [
    {
     "name": "stdout",
     "output_type": "stream",
     "text": [
      "[200 231 264 299 336 375]\n"
     ]
    }
   ],
   "source": [
    "mul1=np.multiply(arr2,arr1)\n",
    "print(mul1)"
   ]
  },
  {
   "cell_type": "code",
   "execution_count": 38,
   "metadata": {},
   "outputs": [
    {
     "name": "stdout",
     "output_type": "stream",
     "text": [
      "[2.         1.90909091 1.83333333 1.76923077 1.71428571 1.66666667]\n"
     ]
    }
   ],
   "source": [
    "div1=np.divide(arr2,arr1)\n",
    "print(div1)"
   ]
  },
  {
   "cell_type": "code",
   "execution_count": 39,
   "metadata": {},
   "outputs": [
    {
     "name": "stdout",
     "output_type": "stream",
     "text": [
      "[1 2 1 2 3 4]\n"
     ]
    }
   ],
   "source": [
    "arr = np.array([-1, -2, 1, 2, 3, -4])\n",
    "abs1=np.absolute(arr)\n",
    "print(abs1)"
   ]
  },
  {
   "cell_type": "code",
   "execution_count": 40,
   "metadata": {},
   "outputs": [
    {
     "name": "stdout",
     "output_type": "stream",
     "text": [
      "[-3.  4.]\n",
      "[-3.  3.]\n",
      "[-3.17  3.67]\n"
     ]
    }
   ],
   "source": [
    "arr=np.array([-3.1666, 3.6667])\n",
    "r1=np.around(arr)\n",
    "print(r1)\n",
    "r2=np.trunc(arr)\n",
    "print(r2)\n",
    "r3=np.around(arr,2)\n",
    "print(r3)"
   ]
  },
  {
   "cell_type": "code",
   "execution_count": 42,
   "metadata": {},
   "outputs": [
    {
     "name": "stdout",
     "output_type": "stream",
     "text": [
      "89.76923076923077\n"
     ]
    }
   ],
   "source": [
    "speed = [99,86,87,88,111,86,103,87,94,78,77,85,86]\n",
    "print(np.mean(speed))"
   ]
  },
  {
   "cell_type": "code",
   "execution_count": 43,
   "metadata": {},
   "outputs": [
    {
     "name": "stdout",
     "output_type": "stream",
     "text": [
      "87.0\n"
     ]
    }
   ],
   "source": [
    "print(np.median(speed))"
   ]
  },
  {
   "cell_type": "code",
   "execution_count": 44,
   "metadata": {},
   "outputs": [
    {
     "name": "stdout",
     "output_type": "stream",
     "text": [
      "ModeResult(mode=array([86]), count=array([3]))\n"
     ]
    },
    {
     "name": "stderr",
     "output_type": "stream",
     "text": [
      "C:\\Users\\HP\\AppData\\Local\\Temp\\ipykernel_2528\\634531157.py:1: FutureWarning: Unlike other reduction functions (e.g. `skew`, `kurtosis`), the default behavior of `mode` typically preserves the axis it acts along. In SciPy 1.11.0, this behavior will change: the default value of `keepdims` will become False, the `axis` over which the statistic is taken will be eliminated, and the value None will no longer be accepted. Set `keepdims` to True or False to avoid this warning.\n",
      "  print(stats.mode(speed))\n"
     ]
    }
   ],
   "source": [
    "print(stats.mode(speed))"
   ]
  },
  {
   "cell_type": "code",
   "execution_count": 45,
   "metadata": {},
   "outputs": [
    {
     "name": "stdout",
     "output_type": "stream",
     "text": [
      "9.258292301032677\n"
     ]
    }
   ],
   "source": [
    "print(np.std(speed))"
   ]
  },
  {
   "cell_type": "code",
   "execution_count": 46,
   "metadata": {},
   "outputs": [
    {
     "name": "stdout",
     "output_type": "stream",
     "text": [
      "85.71597633136093\n"
     ]
    }
   ],
   "source": [
    "print(np.var(speed))"
   ]
  },
  {
   "cell_type": "code",
   "execution_count": 47,
   "metadata": {},
   "outputs": [
    {
     "name": "stdout",
     "output_type": "stream",
     "text": [
      "90.39999999999999\n"
     ]
    }
   ],
   "source": [
    "print(np.percentile(speed, 70))"
   ]
  },
  {
   "cell_type": "code",
   "execution_count": null,
   "metadata": {},
   "outputs": [],
   "source": []
  }
 ],
 "metadata": {
  "colab": {
   "authorship_tag": "ABX9TyO9jJukA1h9Bbk194Jk65g8",
   "provenance": []
  },
  "kernelspec": {
   "display_name": "Python 3 (ipykernel)",
   "language": "python",
   "name": "python3"
  },
  "language_info": {
   "codemirror_mode": {
    "name": "ipython",
    "version": 3
   },
   "file_extension": ".py",
   "mimetype": "text/x-python",
   "name": "python",
   "nbconvert_exporter": "python",
   "pygments_lexer": "ipython3",
   "version": "3.9.13"
  }
 },
 "nbformat": 4,
 "nbformat_minor": 1
}
